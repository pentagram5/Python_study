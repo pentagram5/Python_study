{
 "cells": [
  {
   "cell_type": "markdown",
   "metadata": {},
   "source": [
    "# 주피터 노트북 사용법\n",
    "\n"
   ]
  },
  {
   "cell_type": "markdown",
   "metadata": {},
   "source": [
    "## 1. 셀 삽입"
   ]
  },
  {
   "cell_type": "markdown",
   "metadata": {},
   "source": [
    "* 번호없는 목록 (문장 앞, *를 붙여준다)\n",
    "* 번호 없는 목록들 입니다."
   ]
  },
  {
   "cell_type": "markdown",
   "metadata": {},
   "source": [
    "#### markdown으로 #~을 붙여서 제목설정가능\n",
    "#### markdown 중, 쉘 번호쪽에 y를 입력함으로써 code로 변환가능, m 입력으로 markdown 변환가능\n",
    "#### 쉘은 dd로 삭제가능,a로 추가 가능\n",
    "\n",
    "## 기울임 체 \n",
    "* 글자를 *이렇게* 쓸 수 있습니다. *\n",
    "* 글자를 **이렇게** 쓸 수 있습니다. **\n",
    "* 글자를 ***이렇게도*** 쓸 수 있습니다. ***"
   ]
  },
  {
   "cell_type": "markdown",
   "metadata": {},
   "source": [
    "## 사진 넣는 법 - > markdown으로, html 랭기지로 위치 및 문장 삽입\n",
    "\n",
    "<div align = \"center\"><img src =\"../images/갱얼쥐.jpg\"></div>\n",
    "<div align = \"center\">< 그림1. 갱얼쥐 > </div>"
   ]
  },
  {
   "cell_type": "code",
   "execution_count": 31,
   "metadata": {},
   "outputs": [
    {
     "name": "stdout",
     "output_type": "stream",
     "text": [
      "hello world~\n"
     ]
    }
   ],
   "source": [
    "print('hello world~')#shift+enter"
   ]
  },
  {
   "cell_type": "markdown",
   "metadata": {},
   "source": [
    "## 2. 수식 계산"
   ]
  },
  {
   "cell_type": "code",
   "execution_count": null,
   "metadata": {},
   "outputs": [],
   "source": []
  }
 ],
 "metadata": {
  "kernelspec": {
   "display_name": "Python 3",
   "language": "python",
   "name": "python3"
  },
  "language_info": {
   "codemirror_mode": {
    "name": "ipython",
    "version": 3
   },
   "file_extension": ".py",
   "mimetype": "text/x-python",
   "name": "python",
   "nbconvert_exporter": "python",
   "pygments_lexer": "ipython3",
   "version": "3.7.0"
  }
 },
 "nbformat": 4,
 "nbformat_minor": 2
}
